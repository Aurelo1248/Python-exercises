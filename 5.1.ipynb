{
 "cells": [
  {
   "cell_type": "code",
   "execution_count": 8,
   "id": "4d4830f5-4937-4e95-894c-a61bb878318a",
   "metadata": {},
   "outputs": [
    {
     "name": "stdout",
     "output_type": "stream",
     "text": [
      "True\n",
      "/users/auri/desktop/doktorat zajmuje 1565749 bajtów.\n",
      "/users/auri/desktop/doktorat\\Dokumenty zajmuje 5704686 bajtów.\n",
      "/users/auri/desktop/doktorat\\Publikacje-artykuły zajmuje 2434926 bajtów.\n",
      "/users/auri/desktop/doktorat\\Wyniki zajmuje 0 bajtów.\n",
      "None\n"
     ]
    }
   ],
   "source": [
    "# For a given directory (top) find the number of bytes taken by PDF files in the directory tree (\".pdf\" extensions). \n",
    "# The code should be in the function find_pdf_size(top). In order to test the current directory we run find_pdf_size(\".\").\n",
    "\n",
    "import os\n",
    "path = \"/users/auri/desktop/doktorat\"\n",
    "\n",
    "def find_pdf_size(top):\n",
    "    for root, dirs, files in os.walk(top):\n",
    "        print(root, \"zajmuje\", end=\" \")\n",
    "        print(sum(os.path.getsize(os.path.join(root, name)) for name in files if name.lower().endswith('.pdf')), end=\" \")\n",
    "        print(\"bajtów.\")\n",
    "\n",
    "\n",
    "print(os.path.exists(path))\n",
    "print(find_pdf_size(path))"
   ]
  },
  {
   "cell_type": "code",
   "execution_count": null,
   "id": "e6904af3-f8d3-4e35-bd04-5e0cef8767bd",
   "metadata": {},
   "outputs": [],
   "source": []
  }
 ],
 "metadata": {
  "kernelspec": {
   "display_name": "Python 3 (ipykernel)",
   "language": "python",
   "name": "python3"
  },
  "language_info": {
   "codemirror_mode": {
    "name": "ipython",
    "version": 3
   },
   "file_extension": ".py",
   "mimetype": "text/x-python",
   "name": "python",
   "nbconvert_exporter": "python",
   "pygments_lexer": "ipython3",
   "version": "3.10.2"
  }
 },
 "nbformat": 4,
 "nbformat_minor": 5
}
