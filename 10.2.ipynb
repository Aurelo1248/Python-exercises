{
 "cells": [
  {
   "cell_type": "code",
   "execution_count": 5,
   "id": "f9b0e9df-9f81-4388-8447-96d6c070e1ba",
   "metadata": {},
   "outputs": [
    {
     "name": "stdout",
     "output_type": "stream",
     "text": [
      "2nd     4.00\n",
      "6th     4.23\n",
      "9th     4.20\n",
      "13th    4.25\n",
      "16th    3.97\n",
      "20th    4.26\n",
      "23rd    4.18\n",
      "27th    4.22\n",
      "30th    4.21\n",
      "dtype: float64\n"
     ]
    }
   ],
   "source": [
    "# Create pd.Series where 'index' contains days of the current month and 'data' \n",
    "# contains some numbers (temperatures at noon, currency rates, ...).\n",
    "\n",
    "import numpy as np\n",
    "import pandas as pd\n",
    "\n",
    "s2 = pd.Series(data=[4, 4.23, 4.2, 4.25, 3.97, 4.26, 4.18, 4.22, 4.21],\n",
    "              index=['2nd', '6th', '9th', '13th', '16th', '20th', '23rd', '27th', '30th'])\n",
    "print(s2)"
   ]
  },
  {
   "cell_type": "code",
   "execution_count": null,
   "id": "534eecf8-4687-4efd-b80d-0b61c647e63d",
   "metadata": {},
   "outputs": [],
   "source": []
  }
 ],
 "metadata": {
  "kernelspec": {
   "display_name": "Python 3 (ipykernel)",
   "language": "python",
   "name": "python3"
  },
  "language_info": {
   "codemirror_mode": {
    "name": "ipython",
    "version": 3
   },
   "file_extension": ".py",
   "mimetype": "text/x-python",
   "name": "python",
   "nbconvert_exporter": "python",
   "pygments_lexer": "ipython3",
   "version": "3.10.2"
  }
 },
 "nbformat": 4,
 "nbformat_minor": 5
}
