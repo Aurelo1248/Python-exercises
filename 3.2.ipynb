{
 "cells": [
  {
   "cell_type": "code",
   "execution_count": 3,
   "id": "6eb56cc6-ee7d-4c3c-802e-49eaff92a5c8",
   "metadata": {},
   "outputs": [
    {
     "name": "stdout",
     "output_type": "stream",
     "text": [
      "5 is divided by 5.\n",
      "7 is divided by 7.\n",
      "10 is divided by 5.\n",
      "14 is divided by 7.\n",
      "15 is divided by 5.\n",
      "20 is divided by 5.\n",
      "21 is divided by 7.\n",
      "25 is divided by 5.\n",
      "28 is divided by 7.\n",
      "30 is divided by 5.\n",
      "35 is divided by 5 and 7.\n",
      "40 is divided by 5.\n",
      "Numbers [1, 2, 3, 4, 6, 8, 9, 11, 12, 16, 17, 18, 19, 22, 23, 24, 26, 27, 29, 31, 32, 33, 34, 36, 37, 38, 39] are not important.\n"
     ]
    }
   ],
   "source": [
    "a = list()\n",
    "for x in range(1,41):\n",
    "    if x % 35 == 0:\n",
    "        print(x, \"is divided by 5 and 7.\")\n",
    "    elif x % 5 == 0:\n",
    "        print(x, \"is divided by 5.\")\n",
    "    elif x % 7 == 0:\n",
    "        print(x, \"is divided by 7.\")\n",
    "    elif x == 13:\n",
    "        pass\n",
    "    else:\n",
    "        a.append(x)\n",
    "\n",
    "a = str(a)\n",
    "print(\"Numbers\", a, \"are not important.\")"
   ]
  },
  {
   "cell_type": "code",
   "execution_count": 2,
   "id": "5572ed78-408a-46cc-9a74-33ccabd9a5e2",
   "metadata": {},
   "outputs": [
    {
     "name": "stdout",
     "output_type": "stream",
     "text": [
      "5 is divided by 5.\n",
      "7 is divided by 7.\n",
      "10 is divided by 5.\n",
      "14 is divided by 7.\n",
      "15 is divided by 5.\n",
      "20 is divided by 5.\n",
      "21 is divided by 7.\n",
      "25 is divided by 5.\n",
      "28 is divided by 7.\n",
      "30 is divided by 5.\n",
      "35 is divided by 5 and 7.\n",
      "Numbers [1, 2, 3, 4, 6, 8, 9, 11, 12, 16, 17, 18, 19, 22, 23, 24, 26, 27, 29, 31, 32, 33, 34, 36, 37, 38, 39] are not important.\n"
     ]
    }
   ],
   "source": [
    "b = list()\n",
    "x = 1\n",
    "while x < 40:\n",
    "    if x % 35 == 0:\n",
    "        print(x, \"is divided by 5 and 7.\")\n",
    "        x += 1\n",
    "    elif x % 5 == 0:\n",
    "        print(x, \"is divided by 5.\")\n",
    "        x += 1\n",
    "    elif x % 7 == 0:\n",
    "        print(x, \"is divided by 7.\")\n",
    "        x += 1\n",
    "    elif x == 13:\n",
    "        x += 1\n",
    "    else:\n",
    "        b.append(x)\n",
    "        x += 1\n",
    "\n",
    "b = str(b)\n",
    "print(\"Numbers\", b, \"are not important.\")"
   ]
  },
  {
   "cell_type": "code",
   "execution_count": null,
   "id": "331aaf4b-1e55-4c3a-b00d-71b67c2fe523",
   "metadata": {},
   "outputs": [],
   "source": []
  }
 ],
 "metadata": {
  "kernelspec": {
   "display_name": "Python 3 (ipykernel)",
   "language": "python",
   "name": "python3"
  },
  "language_info": {
   "codemirror_mode": {
    "name": "ipython",
    "version": 3
   },
   "file_extension": ".py",
   "mimetype": "text/x-python",
   "name": "python",
   "nbconvert_exporter": "python",
   "pygments_lexer": "ipython3",
   "version": "3.10.2"
  }
 },
 "nbformat": 4,
 "nbformat_minor": 5
}
