{
 "cells": [
  {
   "cell_type": "code",
   "execution_count": 2,
   "id": "ceff5430-3dff-4d74-8362-a93c0be6dbff",
   "metadata": {},
   "outputs": [
    {
     "name": "stdout",
     "output_type": "stream",
     "text": [
      "97\n",
      "117\n",
      "114\n",
      "101\n",
      "108\n",
      "105\n",
      "117\n",
      "115\n"
     ]
    }
   ],
   "source": [
    "imie=['a','u','r','e','l','i','u','s','z']\n",
    "for x in range(0,len(imie)-1):\n",
    "    print(ord(imie[x]))"
   ]
  },
  {
   "cell_type": "code",
   "execution_count": null,
   "id": "7638e25d-0611-4e45-8e32-61581b783316",
   "metadata": {},
   "outputs": [],
   "source": []
  }
 ],
 "metadata": {
  "kernelspec": {
   "display_name": "Python 3 (ipykernel)",
   "language": "python",
   "name": "python3"
  },
  "language_info": {
   "codemirror_mode": {
    "name": "ipython",
    "version": 3
   },
   "file_extension": ".py",
   "mimetype": "text/x-python",
   "name": "python",
   "nbconvert_exporter": "python",
   "pygments_lexer": "ipython3",
   "version": "3.10.2"
  }
 },
 "nbformat": 4,
 "nbformat_minor": 5
}
