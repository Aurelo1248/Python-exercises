{
 "cells": [
  {
   "cell_type": "code",
   "execution_count": 28,
   "id": "c3e41362-4cde-4b99-a421-1731148052ee",
   "metadata": {},
   "outputs": [
    {
     "name": "stdout",
     "output_type": "stream",
     "text": [
      "Tests passed\n"
     ]
    }
   ],
   "source": [
    "import math\n",
    "from math import sqrt\n",
    "\n",
    "class Vector:\n",
    "    \n",
    "    def __init__(self, x, y, z):\n",
    "        self.data = [0, 0, 0]\n",
    "        self.data[0] = x\n",
    "        self.data[1] = y\n",
    "        self.data[2] = z\n",
    "        self.x = x\n",
    "        self.y = y\n",
    "        self.z = z\n",
    "\n",
    "    def __repr__(self):    # return string \"Vector(x, y, z)\"\n",
    "        return 'Vector ({}, {}, {})'.format(self.x, self.y, self.z)\n",
    "\n",
    "    def is_zero(self):\n",
    "        return all(item == 0 for item in self.data)\n",
    "    \n",
    "    def __eq__(self, other):    # v == w\n",
    "        return (self - other).is_zero()\n",
    "\n",
    "    def __ne__(self, other):        # v != w\n",
    "        return not self == other\n",
    "\n",
    "    def __add__(self, other):   # v + w\n",
    "        return Vector(self.x + other.x, self.y + other.y, self.z + other.z)    # Hint: return Vector(...)\n",
    "\n",
    "    def __sub__(self, other):   # v - w\n",
    "        return Vector(self.x - other.x, self.y - other.y, self.z - other.z)\n",
    "\n",
    "    def __mul__(self, other):  # return the dot product (number)\n",
    "        return self.x * other.x + self.y * other.y + self.z * other.z\n",
    "        \n",
    "    def cross(self, other):   # return the cross product (Vector)\n",
    "        return Vector(self.y * other.z - self.z * other.y, self.z * other.x - self.x * other.z, self.x * other.y - self.y * other.x)\n",
    "        \n",
    "    def length(self):   # the length of the vector\n",
    "        return sqrt(self.x**2 + self.y**2 + self.z**2)\n",
    "        \n",
    "    def __hash__(self):   # we assume that vectors are immutable\n",
    "        return hash((self.x, self.y, self.z))   # recommended\n",
    "    \n",
    "# Exemplary tests.\n",
    "\n",
    "v = Vector(10, -5, 3.2)\n",
    "w = Vector(5, 17, -40.5)\n",
    "assert v != w\n",
    "assert v + w == Vector(15, 12, -37.3)\n",
    "assert v - w == Vector(5, -22, 43.7)\n",
    "assert v * w == -164.6\n",
    "assert v.cross(w) == Vector(148.1, 421, 195)\n",
    "assert v.length() == math.sqrt(135.24)\n",
    "S = set([v, v, w])\n",
    "assert len(S) == 2\n",
    "\n",
    "print(\"Tests passed\")"
   ]
  },
  {
   "cell_type": "code",
   "execution_count": null,
   "id": "a22f66c5-e7c9-401e-a084-b1de855f5957",
   "metadata": {},
   "outputs": [],
   "source": []
  }
 ],
 "metadata": {
  "kernelspec": {
   "display_name": "Python 3 (ipykernel)",
   "language": "python",
   "name": "python3"
  },
  "language_info": {
   "codemirror_mode": {
    "name": "ipython",
    "version": 3
   },
   "file_extension": ".py",
   "mimetype": "text/x-python",
   "name": "python",
   "nbconvert_exporter": "python",
   "pygments_lexer": "ipython3",
   "version": "3.10.2"
  }
 },
 "nbformat": 4,
 "nbformat_minor": 5
}
