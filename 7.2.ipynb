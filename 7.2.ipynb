{
 "cells": [
  {
   "cell_type": "code",
   "execution_count": null,
   "id": "ed9b24e7-019d-41ad-8f5c-1c3d7d5a30fc",
   "metadata": {},
   "outputs": [],
   "source": [
    "import random\n",
    "import itertools\n",
    "\n",
    "# iter_binary = itertools.cycle([0,1])\n",
    "# for i in iter_binary:\n",
    "#     print(i)\n",
    "\n",
    "class CoinToss:\n",
    "\n",
    "    def __init__(self,sequence):\n",
    "        self.data = sequence\n",
    "\n",
    "    def iter_random(sequence):\n",
    "        while True:\n",
    "            yield random.choice(sequence)\n",
    "\n",
    "iter_coin = MyIter.iter_random([0,1])\n",
    "for i in iter_b:\n",
    "    print(i)\n",
    "\n",
    "iter_b2 = iter(lambda: random.choice([0, 1]), -1 )\n",
    "for i in iter_b2:\n",
    "    print(i)\n",
    "\n",
    "#c)\n",
    "iter_c = itertools.cycle([0,1,0,-1])\n",
    "for i in iter_c:\n",
    "    print(i)\n"
   ]
  },
  {
   "cell_type": "code",
   "execution_count": null,
   "id": "e41f8b9e-f358-4a8c-84ed-0a3fa6204fbf",
   "metadata": {},
   "outputs": [],
   "source": []
  }
 ],
 "metadata": {
  "kernelspec": {
   "display_name": "Python 3 (ipykernel)",
   "language": "python",
   "name": "python3"
  },
  "language_info": {
   "codemirror_mode": {
    "name": "ipython",
    "version": 3
   },
   "file_extension": ".py",
   "mimetype": "text/x-python",
   "name": "python",
   "nbconvert_exporter": "python",
   "pygments_lexer": "ipython3",
   "version": "3.10.2"
  }
 },
 "nbformat": 4,
 "nbformat_minor": 5
}
