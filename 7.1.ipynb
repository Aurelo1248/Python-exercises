{
 "cells": [
  {
   "cell_type": "code",
   "execution_count": 3,
   "id": "9e2d8dba-280d-4043-ad73-3060f70c4b85",
   "metadata": {},
   "outputs": [
    {
     "name": "stdout",
     "output_type": "stream",
     "text": [
      "Vector (148.1, 421.0, 195)\n"
     ]
    }
   ],
   "source": [
    "class Vector:\n",
    "\n",
    "    def __init__(self, x, y, z):\n",
    "        self.x = x\n",
    "        self.y = y\n",
    "        self.z = z\n",
    "\n",
    "    def __repr__(self):    # return string \"Vector(x, y, z)\"\n",
    "        return 'Vector ({}, {}, {})'.format(self.x, self.y, self.z)\n",
    "\n",
    "    def find_axis(self, other):\n",
    "        if self.x == w.x and self.y == w.y and self.z == w.z: \n",
    "            raise ValueError(\"The vector is parallel and not perpendicular\")\n",
    "        else:    \n",
    "            return Vector(self.y * w.z - self.z * w.y,\n",
    "                          self.z * w.x - self.x * w.z,\n",
    "                          self.x * w.y - self.y * w.x)\n",
    "v = Vector(10, -5, 3.2)\n",
    "w = Vector(5, 17, -40.5)\n",
    "        \n",
    "print(v.find_axis(other))"
   ]
  },
  {
   "cell_type": "code",
   "execution_count": null,
   "id": "8bf8bf24-8213-48f7-ad32-81eb18ebb0e0",
   "metadata": {},
   "outputs": [],
   "source": []
  }
 ],
 "metadata": {
  "kernelspec": {
   "display_name": "Python 3 (ipykernel)",
   "language": "python",
   "name": "python3"
  },
  "language_info": {
   "codemirror_mode": {
    "name": "ipython",
    "version": 3
   },
   "file_extension": ".py",
   "mimetype": "text/x-python",
   "name": "python",
   "nbconvert_exporter": "python",
   "pygments_lexer": "ipython3",
   "version": "3.10.2"
  }
 },
 "nbformat": 4,
 "nbformat_minor": 5
}
