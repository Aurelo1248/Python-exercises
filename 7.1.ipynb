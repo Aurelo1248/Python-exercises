{
 "cells": [
  {
   "cell_type": "code",
   "execution_count": 13,
   "id": "9e2d8dba-280d-4043-ad73-3060f70c4b85",
   "metadata": {},
   "outputs": [
    {
     "ename": "ValueError",
     "evalue": "The vector is parallel and not perpendicular",
     "output_type": "error",
     "traceback": [
      "\u001b[1;31m---------------------------------------------------------------------------\u001b[0m",
      "\u001b[1;31mValueError\u001b[0m                                Traceback (most recent call last)",
      "Input \u001b[1;32mIn [13]\u001b[0m, in \u001b[0;36m<cell line: 28>\u001b[1;34m()\u001b[0m\n\u001b[0;32m     23\u001b[0m \u001b[38;5;66;03m#v = Vector(0, 0, 0)\u001b[39;00m\n\u001b[0;32m     24\u001b[0m \u001b[38;5;66;03m#w = Vector(0, 0, 0)\u001b[39;00m\n\u001b[0;32m     25\u001b[0m \u001b[38;5;66;03m#w = Vector(5, 17, 40.5)\u001b[39;00m\n\u001b[0;32m     26\u001b[0m w \u001b[38;5;241m=\u001b[39m Vector(\u001b[38;5;241m10\u001b[39m, \u001b[38;5;241m-\u001b[39m\u001b[38;5;241m5\u001b[39m, \u001b[38;5;241m3.2\u001b[39m)\n\u001b[1;32m---> 28\u001b[0m \u001b[38;5;28mprint\u001b[39m(\u001b[43mv\u001b[49m\u001b[38;5;241;43m.\u001b[39;49m\u001b[43mfind_axis\u001b[49m\u001b[43m(\u001b[49m\u001b[43mw\u001b[49m\u001b[43m)\u001b[49m)\n",
      "Input \u001b[1;32mIn [13]\u001b[0m, in \u001b[0;36mVector.find_axis\u001b[1;34m(self, w)\u001b[0m\n\u001b[0;32m     11\u001b[0m \u001b[38;5;28;01mdef\u001b[39;00m \u001b[38;5;21mfind_axis\u001b[39m(\u001b[38;5;28mself\u001b[39m, w):\n\u001b[0;32m     12\u001b[0m     \u001b[38;5;28;01mif\u001b[39;00m \u001b[38;5;28mself\u001b[39m\u001b[38;5;241m.\u001b[39mx \u001b[38;5;241m==\u001b[39m w\u001b[38;5;241m.\u001b[39mx \u001b[38;5;129;01mand\u001b[39;00m \u001b[38;5;28mself\u001b[39m\u001b[38;5;241m.\u001b[39my \u001b[38;5;241m==\u001b[39m w\u001b[38;5;241m.\u001b[39my \u001b[38;5;129;01mand\u001b[39;00m \u001b[38;5;28mself\u001b[39m\u001b[38;5;241m.\u001b[39mz \u001b[38;5;241m==\u001b[39m w\u001b[38;5;241m.\u001b[39mz: \n\u001b[1;32m---> 13\u001b[0m         \u001b[38;5;28;01mraise\u001b[39;00m \u001b[38;5;167;01mValueError\u001b[39;00m(\u001b[38;5;124m\"\u001b[39m\u001b[38;5;124mThe vector is parallel and not perpendicular\u001b[39m\u001b[38;5;124m\"\u001b[39m)\n\u001b[0;32m     14\u001b[0m     \u001b[38;5;28;01melif\u001b[39;00m \u001b[38;5;28mself\u001b[39m\u001b[38;5;241m.\u001b[39mx \u001b[38;5;241m==\u001b[39m \u001b[38;5;241m0\u001b[39m \u001b[38;5;129;01mand\u001b[39;00m \u001b[38;5;28mself\u001b[39m\u001b[38;5;241m.\u001b[39my \u001b[38;5;241m==\u001b[39m \u001b[38;5;241m0\u001b[39m \u001b[38;5;129;01mand\u001b[39;00m \u001b[38;5;28mself\u001b[39m\u001b[38;5;241m.\u001b[39mz \u001b[38;5;241m==\u001b[39m \u001b[38;5;241m0\u001b[39m:\n\u001b[0;32m     15\u001b[0m         \u001b[38;5;28;01mraise\u001b[39;00m \u001b[38;5;167;01mValueError\u001b[39;00m(\u001b[38;5;124m\"\u001b[39m\u001b[38;5;124mThe vector is parallel and not perpendicular\u001b[39m\u001b[38;5;124m\"\u001b[39m)\n",
      "\u001b[1;31mValueError\u001b[0m: The vector is parallel and not perpendicular"
     ]
    }
   ],
   "source": [
    "class Vector:\n",
    "\n",
    "    def __init__(self, x, y, z):\n",
    "        self.x = x\n",
    "        self.y = y\n",
    "        self.z = z\n",
    "\n",
    "    def __repr__(self):    # return string \"Vector(x, y, z)\"\n",
    "        return 'Vector ({}, {}, {})'.format(self.x, self.y, self.z)\n",
    "\n",
    "    def find_axis(self, w):\n",
    "        if self.x == w.x and self.y == w.y and self.z == w.z: \n",
    "            raise ValueError(\"The vector is parallel and not perpendicular\")\n",
    "        elif self.x == 0 and self.y == 0 and self.z == 0:\n",
    "            raise ValueError(\"The vector is parallel and not perpendicular\")\n",
    "        elif w.x == 0 and w.y == 0 and w.z == 0:\n",
    "            raise ValueError(\"The vector is parallel and not perpendicular\")\n",
    "        else:\n",
    "            return Vector(self.y * w.z - self.z * w.y,\n",
    "                          self.z * w.x - self.x * w.z,\n",
    "                          self.x * w.y - self.y * w.x)\n",
    "v = Vector(10, -5, 3.2)\n",
    "#v = Vector(0, 0, 0)\n",
    "w = Vector(5, 17, 40.5)\n",
    "#w = Vector(0, 0, 0)\n",
    "#w = Vector(10, -5, 3.2)\n",
    "        \n",
    "print(v.find_axis(w))"
   ]
  },
  {
   "cell_type": "code",
   "execution_count": null,
   "id": "8bf8bf24-8213-48f7-ad32-81eb18ebb0e0",
   "metadata": {},
   "outputs": [],
   "source": []
  }
 ],
 "metadata": {
  "kernelspec": {
   "display_name": "Python 3 (ipykernel)",
   "language": "python",
   "name": "python3"
  },
  "language_info": {
   "codemirror_mode": {
    "name": "ipython",
    "version": 3
   },
   "file_extension": ".py",
   "mimetype": "text/x-python",
   "name": "python",
   "nbconvert_exporter": "python",
   "pygments_lexer": "ipython3",
   "version": "3.10.2"
  }
 },
 "nbformat": 4,
 "nbformat_minor": 5
}
