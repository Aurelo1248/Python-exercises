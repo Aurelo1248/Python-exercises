{
 "cells": [
  {
   "cell_type": "code",
   "execution_count": 7,
   "id": "b7e661b5-f015-4c46-83d5-17bea367cbcf",
   "metadata": {},
   "outputs": [
    {
     "name": "stdout",
     "output_type": "stream",
     "text": [
      "(4, 5)\n",
      "[[  2  12  24 100 250]\n",
      " [  1  24  48 125 400]\n",
      " [  6  36  72 150 550]\n",
      " [  4  48  96 175 700]]\n",
      "[[250 100  24  12   2]\n",
      " [400 125  48  24   1]\n",
      " [550 150  72  36   6]\n",
      " [700 175  96  48   4]]\n",
      "[[  4  48  96 175 700]\n",
      " [  6  36  72 150 550]\n",
      " [  1  24  48 125 400]\n",
      " [  2  12  24 100 250]]\n",
      "[[ 24  48 125]\n",
      " [ 36  72 150]]\n"
     ]
    }
   ],
   "source": [
    "import numpy as np\n",
    "\n",
    "#a)\n",
    "m1 = np.array(([2, 12, 24, 100, 250],\n",
    "               [1, 24, 48, 125, 400],\n",
    "               [6, 36, 72, 150, 550],\n",
    "               [4, 48, 96, 175, 700]))\n",
    "print(m1.shape)\n",
    "print(m1)\n",
    "\n",
    "#b)\n",
    "m2 = m1[[0,1,2,3],::-1]\n",
    "print(m2)\n",
    "\n",
    "#c)\n",
    "m3 = m1[::-1]\n",
    "print(m3)\n",
    "\n",
    "#d)\n",
    "print(m1[1:3,1:4])"
   ]
  },
  {
   "cell_type": "code",
   "execution_count": null,
   "id": "ec89e0db-ef83-456e-96de-7f61403c8627",
   "metadata": {},
   "outputs": [],
   "source": []
  }
 ],
 "metadata": {
  "kernelspec": {
   "display_name": "Python 3 (ipykernel)",
   "language": "python",
   "name": "python3"
  },
  "language_info": {
   "codemirror_mode": {
    "name": "ipython",
    "version": 3
   },
   "file_extension": ".py",
   "mimetype": "text/x-python",
   "name": "python",
   "nbconvert_exporter": "python",
   "pygments_lexer": "ipython3",
   "version": "3.10.2"
  }
 },
 "nbformat": 4,
 "nbformat_minor": 5
}
