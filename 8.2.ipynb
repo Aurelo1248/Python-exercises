{
 "cells": [
  {
   "cell_type": "code",
   "execution_count": 4,
   "id": "f7768a7e-74a9-4163-8058-9da6ebbe6a07",
   "metadata": {},
   "outputs": [
    {
     "name": "stdout",
     "output_type": "stream",
     "text": [
      "[ 3  5  6  8 12 14 24 26]\n",
      "[ 5  8 14 26]\n",
      "[26 24 14 12  8  6  5  3]\n"
     ]
    }
   ],
   "source": [
    "import numpy as np\n",
    "\n",
    "#a)\n",
    "v1 = np.array([3, 5, 6, 8, 12, 14, 24, 26])\n",
    "print(v1)\n",
    "\n",
    "#b)\n",
    "v2 = v1[1::2]\n",
    "print(v2)\n",
    "\n",
    "#c)\n",
    "v3 = v1[::-1]\n",
    "print(v3)"
   ]
  },
  {
   "cell_type": "code",
   "execution_count": null,
   "id": "4917ba17-709d-469d-96b7-149d95ac0572",
   "metadata": {},
   "outputs": [],
   "source": []
  }
 ],
 "metadata": {
  "kernelspec": {
   "display_name": "Python 3 (ipykernel)",
   "language": "python",
   "name": "python3"
  },
  "language_info": {
   "codemirror_mode": {
    "name": "ipython",
    "version": 3
   },
   "file_extension": ".py",
   "mimetype": "text/x-python",
   "name": "python",
   "nbconvert_exporter": "python",
   "pygments_lexer": "ipython3",
   "version": "3.10.2"
  }
 },
 "nbformat": 4,
 "nbformat_minor": 5
}
