{
 "cells": [
  {
   "cell_type": "code",
   "execution_count": 56,
   "id": "49ea4627-906a-4314-8fbf-381643c88741",
   "metadata": {},
   "outputs": [
    {
     "name": "stdout",
     "output_type": "stream",
     "text": [
      "-6\n"
     ]
    }
   ],
   "source": [
    "# Create the generator random_walk(start) for a 1D random walker. \n",
    "# If a position at a certain moment is x, then the next position can be x+1 or x-1 with equal probabilities. \n",
    "# Find the final position after 100 moves (start=0). Repeat experiments.\n",
    "\n",
    "import random\n",
    "\n",
    "def random_walk(start):\n",
    "    for x in range(100):\n",
    "        start = start + random.choice([-1,1])\n",
    "    print(start)\n",
    "\n",
    "random_walk(0)\n"
   ]
  }
 ],
 "metadata": {
  "kernelspec": {
   "display_name": "Python 3 (ipykernel)",
   "language": "python",
   "name": "python3"
  },
  "language_info": {
   "codemirror_mode": {
    "name": "ipython",
    "version": 3
   },
   "file_extension": ".py",
   "mimetype": "text/x-python",
   "name": "python",
   "nbconvert_exporter": "python",
   "pygments_lexer": "ipython3",
   "version": "3.10.2"
  }
 },
 "nbformat": 4,
 "nbformat_minor": 5
}
