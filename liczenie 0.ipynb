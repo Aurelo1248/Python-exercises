{
 "cells": [
  {
   "cell_type": "code",
   "execution_count": 2,
   "id": "3f59b134-8d88-4903-b0f5-91c1cd2e0daf",
   "metadata": {},
   "outputs": [],
   "source": [
    "a=str(int(65168161*6))"
   ]
  },
  {
   "cell_type": "code",
   "execution_count": 3,
   "id": "39777aa8-f85c-424a-874d-d1502c553755",
   "metadata": {},
   "outputs": [
    {
     "name": "stdout",
     "output_type": "stream",
     "text": [
      "2\n"
     ]
    }
   ],
   "source": [
    "print(a.count('0'))"
   ]
  },
  {
   "cell_type": "code",
   "execution_count": null,
   "id": "17dd84da-905e-4864-921a-27dea4abcba3",
   "metadata": {},
   "outputs": [],
   "source": []
  }
 ],
 "metadata": {
  "kernelspec": {
   "display_name": "Python 3 (ipykernel)",
   "language": "python",
   "name": "python3"
  },
  "language_info": {
   "codemirror_mode": {
    "name": "ipython",
    "version": 3
   },
   "file_extension": ".py",
   "mimetype": "text/x-python",
   "name": "python",
   "nbconvert_exporter": "python",
   "pygments_lexer": "ipython3",
   "version": "3.10.2"
  }
 },
 "nbformat": 4,
 "nbformat_minor": 5
}
