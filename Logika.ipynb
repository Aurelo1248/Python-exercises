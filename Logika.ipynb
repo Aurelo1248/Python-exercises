{
 "cells": [
  {
   "cell_type": "code",
   "execution_count": null,
   "id": "0d7324bb-b124-4df3-a2d2-77cf049c51cb",
   "metadata": {},
   "outputs": [],
   "source": [
    "# Explain the results.\n",
    "x = 5\n",
    "x == 5 and 3                  # 3  - x ma wartość 5, więc funkcja and zwraca True dla x == 5, po czym podaje wartość po and\n",
    "x == 4 and 3                  # False - x ma wartość 5, funkcja zwraca False dla x == 5 i nie liczy dalej\n",
    "3 and x == 5                  # True - funkcja ocenia argument po and ponieważ 3 nie daje False, x jest ma wartość 5 więc x == 5 zwraca True, natomiast przy x == 4 zwraca False\n",
    "3 and x == 4                  # False\n",
    "\n",
    "isinstance(True, int)         # True\n",
    "isinstance(True, bool)        # True zmienna może mieć przypisane różne typy referencji - zarówno bool jak i int mogą być przypisane do tej samej zmiennej"
   ]
  }
 ],
 "metadata": {
  "kernelspec": {
   "display_name": "Python 3 (ipykernel)",
   "language": "python",
   "name": "python3"
  },
  "language_info": {
   "codemirror_mode": {
    "name": "ipython",
    "version": 3
   },
   "file_extension": ".py",
   "mimetype": "text/x-python",
   "name": "python",
   "nbconvert_exporter": "python",
   "pygments_lexer": "ipython3",
   "version": "3.10.2"
  }
 },
 "nbformat": 4,
 "nbformat_minor": 5
}
