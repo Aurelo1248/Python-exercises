{
 "cells": [
  {
   "cell_type": "code",
   "execution_count": null,
   "id": "267cbd1d-8314-4220-9958-13f8cf07fcaf",
   "metadata": {},
   "outputs": [],
   "source": [
    "def iter_even():\n",
    "    i = 0\n",
    "    while True:\n",
    "        yield i*2\n",
    "        i += 1\n",
    "\n",
    "def iter_odd():\n",
    "    i = 1\n",
    "    while True:\n",
    "        yield i\n",
    "        i += 2\n",
    "\n",
    "def iter_sqr():\n",
    "    n=2\n",
    "    i = 0\n",
    "    while True:\n",
    "        yield n**i\n",
    "        i = 1+i"
   ]
  },
  {
   "cell_type": "code",
   "execution_count": null,
   "id": "86e14812-9e42-48cf-a8ec-54e50a945513",
   "metadata": {},
   "outputs": [],
   "source": []
  }
 ],
 "metadata": {
  "kernelspec": {
   "display_name": "Python 3 (ipykernel)",
   "language": "python",
   "name": "python3"
  },
  "language_info": {
   "codemirror_mode": {
    "name": "ipython",
    "version": 3
   },
   "file_extension": ".py",
   "mimetype": "text/x-python",
   "name": "python",
   "nbconvert_exporter": "python",
   "pygments_lexer": "ipython3",
   "version": "3.10.2"
  }
 },
 "nbformat": 4,
 "nbformat_minor": 5
}
