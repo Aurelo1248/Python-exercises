{
 "cells": [
  {
   "cell_type": "code",
   "execution_count": 52,
   "id": "4af626e5-c05f-4f96-a7f4-200a2ae4c436",
   "metadata": {},
   "outputs": [
    {
     "name": "stdout",
     "output_type": "stream",
     "text": [
      "Lista S ma 197 wyrazy, 1113 znaki czarne, a najdłuższe słowo to exercitationem.\n",
      "['ab', 'accusantium', 'ad', 'ad', 'adipisci', 'adipiscing', 'aliqua.', 'aliquam', 'aliquid', 'aliquip', 'amet,', 'amet,', 'anim', 'aperiam,', 'architecto', 'aspernatur', 'aut', 'aut', 'aute', 'autem', 'beatae', 'cillum', 'commodi', 'commodo', 'consectetur', 'consectetur,', 'consequat.', 'consequatur,', 'consequatur?', 'consequuntur', 'corporis', 'culpa', 'cupidatat', 'deserunt', 'dicta', 'do', 'dolor', 'dolor', 'dolor', 'dolore', 'dolore', 'dolore', 'dolorem', 'dolorem', 'doloremque', 'dolores', 'Duis', 'ea', 'ea', 'ea', 'eaque', 'eius', 'eiusmod', 'elit,', 'enim', 'enim', 'enim', 'eos', 'error', 'esse', 'esse', 'est', 'est,', 'et', 'et', 'et', 'eu', 'eum', 'eum', 'ex', 'ex', 'Excepteur', 'exercitation', 'exercitationem', 'explicabo.', 'fugiat', 'fugiat', 'fugit,', 'id', 'illo', 'illum', 'in', 'in', 'in', 'in', 'incididunt', 'incidunt', 'inventore', 'ipsa', 'ipsam', 'ipsum', 'ipsum', 'irure', 'iste', 'iure', 'labore', 'labore', 'laboriosam,', 'laboris', 'laborum', 'laudantium,', 'Lorem', 'magna', 'magnam', 'magni', 'minim', 'minima', 'modi', 'molestiae', 'mollit', 'natus', 'Nemo', 'Neque', 'nesciunt.', 'nihil', 'nisi', 'nisi', 'non', 'non', 'nostrud', 'nostrum', 'nulla', 'nulla', 'numquam', 'occaecat', 'odit', 'officia', 'omnis', 'pariatur.', 'pariatur?', 'perspiciatis', 'porro', 'proident,', 'quae', 'quaerat', 'quam', 'quasi', 'qui', 'qui', 'qui', 'qui', 'qui', 'quia', 'quia', 'quia', 'quia', 'quis', 'quis', 'Quis', 'quisquam', 'quo', 'ratione', 'rem', 'reprehenderit', 'reprehenderit', 'sed', 'Sed', 'sed', 'sed', 'sequi', 'sint', 'sit', 'sit', 'sit', 'sit', 'sunt', 'sunt', 'suscipit', 'tempor', 'tempora', 'totam', 'ullam', 'ullamco', 'unde', 'ut', 'Ut', 'ut', 'ut', 'ut', 'Ut', 'ut', 'vel', 'vel', 'velit', 'velit', 'velit,', 'veniam,', 'veniam,', 'veritatis', 'vitae', 'voluptas', 'voluptas', 'voluptate', 'voluptate', 'voluptatem', 'voluptatem', 'voluptatem', 'voluptatem.']\n",
      "['ab', 'ad', 'ad', 'do', 'ea', 'ea', 'ea', 'et', 'et', 'et', 'eu', 'ex', 'ex', 'id', 'in', 'in', 'in', 'in', 'ut', 'Ut', 'ut', 'ut', 'ut', 'Ut', 'ut', 'aut', 'aut', 'eos', 'est', 'eum', 'eum', 'non', 'non', 'qui', 'qui', 'qui', 'qui', 'qui', 'quo', 'rem', 'sed', 'Sed', 'sed', 'sed', 'sit', 'sit', 'sit', 'sit', 'vel', 'vel', 'anim', 'aute', 'Duis', 'eius', 'enim', 'enim', 'enim', 'esse', 'esse', 'est,', 'illo', 'ipsa', 'iste', 'iure', 'modi', 'Nemo', 'nisi', 'nisi', 'odit', 'quae', 'quam', 'quia', 'quia', 'quia', 'quia', 'quis', 'quis', 'Quis', 'sint', 'sunt', 'sunt', 'unde', 'amet,', 'amet,', 'autem', 'culpa', 'dicta', 'dolor', 'dolor', 'dolor', 'eaque', 'elit,', 'error', 'illum', 'ipsam', 'ipsum', 'ipsum', 'irure', 'Lorem', 'magna', 'magni', 'minim', 'natus', 'Neque', 'nihil', 'nulla', 'nulla', 'omnis', 'porro', 'quasi', 'sequi', 'totam', 'ullam', 'velit', 'velit', 'vitae', 'beatae', 'cillum', 'dolore', 'dolore', 'dolore', 'fugiat', 'fugiat', 'fugit,', 'labore', 'labore', 'magnam', 'minima', 'mollit', 'tempor', 'velit,', 'aliqua.', 'aliquam', 'aliquid', 'aliquip', 'commodi', 'commodo', 'dolorem', 'dolorem', 'dolores', 'eiusmod', 'laboris', 'laborum', 'nostrud', 'nostrum', 'numquam', 'officia', 'quaerat', 'ratione', 'tempora', 'ullamco', 'veniam,', 'veniam,', 'adipisci', 'aperiam,', 'corporis', 'deserunt', 'incidunt', 'occaecat', 'quisquam', 'suscipit', 'voluptas', 'voluptas', 'cupidatat', 'Excepteur', 'inventore', 'molestiae', 'nesciunt.', 'pariatur.', 'pariatur?', 'proident,', 'veritatis', 'voluptate', 'voluptate', 'adipiscing', 'architecto', 'aspernatur', 'consequat.', 'doloremque', 'explicabo.', 'incididunt', 'voluptatem', 'voluptatem', 'voluptatem', 'accusantium', 'consectetur', 'laboriosam,', 'laudantium,', 'voluptatem.', 'consectetur,', 'consequatur,', 'consequatur?', 'consequuntur', 'exercitation', 'perspiciatis', 'reprehenderit', 'reprehenderit', 'exercitationem']\n"
     ]
    }
   ],
   "source": [
    "S =\"Lorem ipsum dolor sit amet, consectetur adipiscing elit, sed do eiusmod tempor incididunt ut labore et dolore magna aliqua. Ut enim ad minim veniam, quis \\\n",
    "nostrud exercitation ullamco laboris nisi ut aliquip ex ea commodo consequat. Duis aute irure dolor in reprehenderit in voluptate velit esse cillum dolore eu fugiat nulla pariatur. \\\n",
    "Excepteur sint occaecat cupidatat non proident, sunt in culpa qui officia deserunt mollit anim id est laborum Sed ut perspiciatis unde omnis iste \\\n",
    "natus error sit voluptatem accusantium doloremque laudantium, totam rem aperiam, eaque ipsa quae ab illo inventore veritatis et quasi architecto beatae vitae dicta sunt explicabo. \\\n",
    "Nemo enim ipsam voluptatem quia voluptas sit aspernatur aut odit aut fugit, sed quia consequuntur magni dolores eos qui ratione voluptatem sequi nesciunt. Neque porro quisquam est, \\\n",
    "qui dolorem ipsum quia dolor sit amet, consectetur, adipisci velit, sed quia non numquam eius modi tempora incidunt ut labore et dolore magnam aliquam quaerat voluptatem. \\\n",
    "Ut enim ad minima veniam, quis nostrum exercitationem ullam corporis suscipit laboriosam, nisi ut aliquid ex ea commodi consequatur?\\\n",
    " Quis autem vel eum iure reprehenderit qui in ea voluptate velit esse quam nihil molestiae consequatur, vel illum qui dolorem eum fugiat quo voluptas nulla pariatur?\"\n",
    "\n",
    "a=str(S.count(\" \"))\n",
    "b=str(len(S)-S.count(\" \"))\n",
    "print(\"Lista S ma \" + a + \" wyrazy, \" + b + \" znaki czarne, a najdłuższe słowo to \" + max(S.split(), key=len) + \".\")\n",
    "L=S.split()\n",
    "L.sort(key=str.casefold)\n",
    "print(L)\n",
    "L.sort(key=len)\n",
    "print(L)"
   ]
  },
  {
   "cell_type": "code",
   "execution_count": null,
   "id": "28c3cc4f-0c2b-466c-8511-d591d355b213",
   "metadata": {},
   "outputs": [],
   "source": []
  }
 ],
 "metadata": {
  "kernelspec": {
   "display_name": "Python 3 (ipykernel)",
   "language": "python",
   "name": "python3"
  },
  "language_info": {
   "codemirror_mode": {
    "name": "ipython",
    "version": 3
   },
   "file_extension": ".py",
   "mimetype": "text/x-python",
   "name": "python",
   "nbconvert_exporter": "python",
   "pygments_lexer": "ipython3",
   "version": "3.10.2"
  }
 },
 "nbformat": 4,
 "nbformat_minor": 5
}
