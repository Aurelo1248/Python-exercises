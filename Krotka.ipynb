{
 "cells": [
  {
   "cell_type": "code",
   "execution_count": 1,
   "id": "0e67fd72-3b2a-4305-bc8b-52ca0824ca39",
   "metadata": {},
   "outputs": [
    {
     "ename": "IndexError",
     "evalue": "tuple index out of range",
     "output_type": "error",
     "traceback": [
      "\u001b[1;31m---------------------------------------------------------------------------\u001b[0m",
      "\u001b[1;31mIndexError\u001b[0m                                Traceback (most recent call last)",
      "Input \u001b[1;32mIn [1]\u001b[0m, in \u001b[0;36m<cell line: 2>\u001b[1;34m()\u001b[0m\n\u001b[0;32m      1\u001b[0m t \u001b[38;5;241m=\u001b[39m (\u001b[38;5;241m2\u001b[39m, \u001b[38;5;241m4\u001b[39m)\n\u001b[1;32m----> 2\u001b[0m \u001b[38;5;28mprint\u001b[39m(\u001b[43mt\u001b[49m\u001b[43m[\u001b[49m\u001b[38;5;241;43m2\u001b[39;49m\u001b[43m]\u001b[49m) \u001b[38;5;66;03m# wartości są przypisywane od 0, więc 2 jest poza zakresem krotki\u001b[39;00m\n\u001b[0;32m      3\u001b[0m t\u001b[38;5;241m.\u001b[39mappend(\u001b[38;5;241m6\u001b[39m) \u001b[38;5;66;03m# krotka jest niemodyfikowalnym obiektem, więc .append nie działa\u001b[39;00m\n\u001b[0;32m      4\u001b[0m a, b \u001b[38;5;241m=\u001b[39m t ; \u001b[38;5;28mprint\u001b[39m(a, b)\n",
      "\u001b[1;31mIndexError\u001b[0m: tuple index out of range"
     ]
    }
   ],
   "source": [
    "t = (2, 4)\n",
    "print(t[2]) # wartości są przypisywane od 0, więc 2 jest poza zakresem krotki\n",
    "t.append(6) # krotka jest niemodyfikowalnym obiektem, więc .append nie działa\n",
    "a, b = t ; print(a, b) # zmienne mogą być przypisane do krotki i użycie wielu zmiennych w jednym przypisaniu przypisuje kolejne wartości w krotce do kolejnych zmiennych"
   ]
  },
  {
   "cell_type": "code",
   "execution_count": null,
   "id": "efb8783d-7127-4b21-9d5a-537edcd2eb51",
   "metadata": {},
   "outputs": [],
   "source": []
  }
 ],
 "metadata": {
  "kernelspec": {
   "display_name": "Python 3 (ipykernel)",
   "language": "python",
   "name": "python3"
  },
  "language_info": {
   "codemirror_mode": {
    "name": "ipython",
    "version": 3
   },
   "file_extension": ".py",
   "mimetype": "text/x-python",
   "name": "python",
   "nbconvert_exporter": "python",
   "pygments_lexer": "ipython3",
   "version": "3.10.2"
  }
 },
 "nbformat": 4,
 "nbformat_minor": 5
}
