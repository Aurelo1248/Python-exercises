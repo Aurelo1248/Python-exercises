{
 "cells": [
  {
   "cell_type": "code",
   "execution_count": 28,
   "id": "b0014308-cca7-47c8-9825-8c0e568d4734",
   "metadata": {},
   "outputs": [
    {
     "name": "stdout",
     "output_type": "stream",
     "text": [
      "Kolory =  RGB \n",
      "Rozmiar =  (600, 600) \n",
      " Format =  PNG\n"
     ]
    }
   ],
   "source": [
    "from PIL import Image\n",
    "\n",
    "with Image.open('nebula.png') as neb:\n",
    "    print('Kolory = ',neb.mode,'\\n'\n",
    "          'Rozmiar = ', neb.size,'\\n',\n",
    "          'Format = ', neb.format)\n",
    "    neb.thumbnail((128, 128))\n",
    "    neb.save('neb_thumb.png', 'PNG')\n",
    "\n",
    "with Image.open('neb_thumb.png') as neb_thumb:\n",
    "    neb_thumb.show()"
   ]
  },
  {
   "cell_type": "code",
   "execution_count": null,
   "id": "5b09902e-90ab-45c3-aae0-0245dd38e1d5",
   "metadata": {},
   "outputs": [],
   "source": []
  }
 ],
 "metadata": {
  "kernelspec": {
   "display_name": "Python 3 (ipykernel)",
   "language": "python",
   "name": "python3"
  },
  "language_info": {
   "codemirror_mode": {
    "name": "ipython",
    "version": 3
   },
   "file_extension": ".py",
   "mimetype": "text/x-python",
   "name": "python",
   "nbconvert_exporter": "python",
   "pygments_lexer": "ipython3",
   "version": "3.10.2"
  }
 },
 "nbformat": 4,
 "nbformat_minor": 5
}
