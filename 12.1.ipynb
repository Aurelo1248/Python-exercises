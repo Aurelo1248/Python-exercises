{
 "cells": [
  {
   "cell_type": "code",
   "execution_count": 4,
   "id": "5bf0a411-6dcc-4136-9cff-49fe5d2e623f",
   "metadata": {},
   "outputs": [],
   "source": [
    "import math\n",
    "import pytest\n",
    "\n",
    "class Wektor:\n",
    "    def __init__(self, x, y, z):\n",
    "        self.data = [x, y, z]\n",
    "\n",
    "    def __eq__(self, other):\n",
    "        return (self - other).is_zero()\n",
    "\n",
    "    def __ne__(self, other):\n",
    "        return not self == other\n",
    "\n",
    "    def __add__(self, other):\n",
    "        return Vector(self.x + other.x, self.y + other.y, self.z + other.z)\n",
    "\n",
    "    def __sub__(self, other):\n",
    "        return Vector(self.x - other.x, self.y - other.y, self.z - other.z)\n",
    "\n",
    "    def __mul__(self, other):\n",
    "        return self.x * other.x + self.y * other.y + self.z * other.z\n",
    "\n",
    "    def length(self):\n",
    "        return sqrt(self.x**2 + self.y**2 + self.z**2)\n",
    "\n",
    "    def cross(self, other):\n",
    "        return Vector(self.y * other.z - self.z * other.y,\n",
    "                      self.z * other.x - self.x * other.z,\n",
    "                      self.x * other.y - self.y * other.x)\n",
    "\n",
    "class TestWektor():\n",
    "\n",
    "    def setUp(self):\n",
    "        self.v = Vector(10, 5, -20)\n",
    "        self.w = Vector(2, -15, 10)\n",
    "\n",
    "    def test_vector(self):\n",
    "        self.assertNotEqual(self.v, self.w)\n",
    "        self.assertEqual(self.v + self.w, Vector(12, -10, -10))\n",
    "        self.assertEqual(self.v - self.w, Vector(8, 20, -30))\n",
    "        self.assertEqual(self.v * self.w, -255)\n",
    "        self.assertEqual(self.v.cross(self.w), Vector(250, -140, -160))\n",
    "\n",
    "if __name__ == \"__main__\":\n",
    "    pytest.main()"
   ]
  },
  {
   "cell_type": "code",
   "execution_count": null,
   "id": "825a6ccc-cf3c-4de6-b72c-5dc37228f933",
   "metadata": {},
   "outputs": [],
   "source": []
  }
 ],
 "metadata": {
  "kernelspec": {
   "display_name": "Python 3 (ipykernel)",
   "language": "python",
   "name": "python3"
  },
  "language_info": {
   "codemirror_mode": {
    "name": "ipython",
    "version": 3
   },
   "file_extension": ".py",
   "mimetype": "text/x-python",
   "name": "python",
   "nbconvert_exporter": "python",
   "pygments_lexer": "ipython3",
   "version": "3.10.2"
  }
 },
 "nbformat": 4,
 "nbformat_minor": 5
}
