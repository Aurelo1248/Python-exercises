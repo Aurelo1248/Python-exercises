{
 "cells": [
  {
   "cell_type": "code",
   "execution_count": 148,
   "id": "1fd2edc0-3f63-4c12-a634-78c09680a44d",
   "metadata": {},
   "outputs": [
    {
     "name": "stdout",
     "output_type": "stream",
     "text": [
      "Punkt 33 , 24 - Punkt P należy do okręgu. Współrzędne są pozytywne.\n",
      "Punkt 2 , -3 - Punkt P należy do okręgu. Jedna lub więcej współrzędnych jest negatywnych.\n",
      "Punkt 24 , -90 - Punkt P nie należy do okręgu. Jedna lub więcej współrzędnych jest negatywnych.\n",
      "Punkt 1 , 37 - Punkt P należy do okręgu. Współrzędne są pozytywne.\n",
      "Punkt -5 , 4 - Punkt P należy do okręgu. Jedna lub więcej współrzędnych jest negatywnych.\n",
      "Punkt 58 , 6 - Punkt P nie należy do okręgu. Współrzędne są pozytywne.\n",
      "Punkt 79 , 62 - Punkt P nie należy do okręgu. Współrzędne są pozytywne.\n",
      "Punkt -82 , 95 - Punkt P nie należy do okręgu. Jedna lub więcej współrzędnych jest negatywnych.\n",
      "Punkt 94 , -40 - Punkt P nie należy do okręgu. Jedna lub więcej współrzędnych jest negatywnych.\n",
      "Współrzędne sortowane po Y od wartości najniższej[[-82, 95], [-5, 4], [1, 37], [2, -3], [24, -90], [33, 24], [58, 6], [79, 62], [94, -40]]\n",
      "Współrzędne sortowane po Y od wartości najwyższej[[-82, 95], [79, 62], [1, 37], [33, 24], [58, 6], [-5, 4], [2, -3], [94, -40], [24, -90]]\n",
      "Współrzędne sortowane po sumie wartości bezwzględnych:[[2, -3], [-5, 4], [1, 37], [33, 24], [58, 6], [24, -90], [94, -40], [79, 62], [-82, 95]]\n"
     ]
    }
   ],
   "source": [
    "r = 50\n",
    "x = [33, 2, 24, 1, -5, 58, 79, -82, 94, 10]\n",
    "y = [24, -3, -90, 37, 4, 6, 62, 95, -40, -18]\n",
    "p = []\n",
    "for i in range(0,9):\n",
    "    p.append([x[i], y[i]])\n",
    "okrag = lambda x,y,r:'Punkt P należy do okręgu.' if x**2+y**2<=r**2 else 'Punkt P nie należy do okręgu.'\n",
    "poz = lambda x,y: 'Współrzędne są pozytywne.' if x > 0 and y > 0 else 'Jedna lub więcej współrzędnych jest negatywnych.'\n",
    "\n",
    "for i in range(0,9):\n",
    "    print('Punkt', p[i][0],',', p[i][1],'-', okrag(p[i][0], p[i][1], r), end=' ')\n",
    "    print(poz(p[i][0], p[i][1]))\n",
    "\n",
    "p.sort(key = lambda x: x[0])\n",
    "print(f\"Współrzędne sortowane po Y od wartości najniższej{p}\")\n",
    "\n",
    "p.sort(key = lambda y: y[1], reverse=True)\n",
    "print(f\"Współrzędne sortowane po Y od wartości najwyższej{p}\")\n",
    "\n",
    "p.sort(key = lambda x: abs(x[1])+abs(x[0]))\n",
    "print(f\"Współrzędne sortowane po sumie wartości bezwzględnych:{p}\")"
   ]
  },
  {
   "cell_type": "code",
   "execution_count": null,
   "id": "dc58c8ad-aa6d-4d53-95d9-d5b91ca310a0",
   "metadata": {},
   "outputs": [],
   "source": []
  }
 ],
 "metadata": {
  "kernelspec": {
   "display_name": "Python 3 (ipykernel)",
   "language": "python",
   "name": "python3"
  },
  "language_info": {
   "codemirror_mode": {
    "name": "ipython",
    "version": 3
   },
   "file_extension": ".py",
   "mimetype": "text/x-python",
   "name": "python",
   "nbconvert_exporter": "python",
   "pygments_lexer": "ipython3",
   "version": "3.10.2"
  }
 },
 "nbformat": 4,
 "nbformat_minor": 5
}
