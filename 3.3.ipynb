{
 "cells": [
  {
   "cell_type": "code",
   "execution_count": 32,
   "id": "090e3132-58f2-42bc-b78a-4e89cc718058",
   "metadata": {},
   "outputs": [
    {
     "name": "stdout",
     "output_type": "stream",
     "text": [
      "2022\n",
      "3.14159\n",
      "Python\n",
      "książka\n",
      "\n"
     ]
    }
   ],
   "source": [
    "import math\n",
    "n = 2022\n",
    "x = round(math.pi, 5)\n",
    "word = 'Python'\n",
    "polish = 'książka'\n",
    "outfile = open('vars.txt', 'w',encoding='utf-8')\n",
    "outfile.write('{}\\n{}\\n{}\\n{}\\n'.format(n, x, word, polish))\n",
    "outfile.close()\n",
    "infile = open('vars.txt', 'r', encoding='utf-8')\n",
    "S = infile.read()\n",
    "print(S)\n",
    "infile.close()"
   ]
  }
 ],
 "metadata": {
  "kernelspec": {
   "display_name": "Python 3 (ipykernel)",
   "language": "python",
   "name": "python3"
  },
  "language_info": {
   "codemirror_mode": {
    "name": "ipython",
    "version": 3
   },
   "file_extension": ".py",
   "mimetype": "text/x-python",
   "name": "python",
   "nbconvert_exporter": "python",
   "pygments_lexer": "ipython3",
   "version": "3.10.2"
  }
 },
 "nbformat": 4,
 "nbformat_minor": 5
}
