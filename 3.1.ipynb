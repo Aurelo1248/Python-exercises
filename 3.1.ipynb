{
 "cells": [
  {
   "cell_type": "code",
   "execution_count": 22,
   "id": "ebc02b8d-777b-486f-8e5d-a4079e88f010",
   "metadata": {},
   "outputs": [
    {
     "name": "stdout",
     "output_type": "stream",
     "text": [
      "+---+---+---+---+---+---+---+---+---+\n",
      "| A | u | r | e | l | i | u | s | z | \n",
      "+---+---+---+---+---+---+---+---+---+\n"
     ]
    }
   ],
   "source": [
    "word = \"Aureliusz\"\n",
    "print(\"+\" + \"---+\" * len(word)) \n",
    "print(\"|\", end=' ')\n",
    "for x in word:\n",
    "    print(x + \" |\", end=' ')\n",
    "print(\"\\n+\" + \"---+\" * len(word)) "
   ]
  },
  {
   "cell_type": "code",
   "execution_count": null,
   "id": "be8c3776-9100-4e92-b976-d806b499afca",
   "metadata": {},
   "outputs": [],
   "source": []
  }
 ],
 "metadata": {
  "kernelspec": {
   "display_name": "Python 3 (ipykernel)",
   "language": "python",
   "name": "python3"
  },
  "language_info": {
   "codemirror_mode": {
    "name": "ipython",
    "version": 3
   },
   "file_extension": ".py",
   "mimetype": "text/x-python",
   "name": "python",
   "nbconvert_exporter": "python",
   "pygments_lexer": "ipython3",
   "version": "3.10.2"
  }
 },
 "nbformat": 4,
 "nbformat_minor": 5
}
