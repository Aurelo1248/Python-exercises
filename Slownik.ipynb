{
 "cells": [
  {
   "cell_type": "code",
   "execution_count": 10,
   "id": "06507bdd-64cf-4976-ba47-e5dbb7c96e82",
   "metadata": {},
   "outputs": [],
   "source": [
    "D = {\"I\": 1, \"IV\": 4,\"V\": 5,\"IX\": 9,\"X\": 10,\"XL\": 40,\"L\": 50,\"XC\": 90,\"C\": 100,\"CD\": 400,\"D\": 500,\"CM\": 900,\"M\": 1000}"
   ]
  },
  {
   "cell_type": "code",
   "execution_count": 4,
   "id": "85accbef-c682-40a6-8e93-310499d1be29",
   "metadata": {},
   "outputs": [],
   "source": [
    "A = [\"I\", \"IV\", \"V\", \"IX\", \"X\", \"XL\", \"L\", \"XC\", \"C\", \"CD\", \"D\", \"CM\", \"M\"]\n",
    "B = [1, 4, 5, 9, 10, 40, 50, 90, 100, 400, 500, 900, 1000]\n",
    "E = dict(zip(A, B))"
   ]
  }
 ],
 "metadata": {
  "kernelspec": {
   "display_name": "Python 3 (ipykernel)",
   "language": "python",
   "name": "python3"
  },
  "language_info": {
   "codemirror_mode": {
    "name": "ipython",
    "version": 3
   },
   "file_extension": ".py",
   "mimetype": "text/x-python",
   "name": "python",
   "nbconvert_exporter": "python",
   "pygments_lexer": "ipython3",
   "version": "3.10.2"
  }
 },
 "nbformat": 4,
 "nbformat_minor": 5
}
