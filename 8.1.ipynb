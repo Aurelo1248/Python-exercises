{
 "cells": [
  {
   "cell_type": "code",
   "execution_count": 6,
   "id": "8eb9b975-b2a6-4666-b701-e57d5e39e690",
   "metadata": {},
   "outputs": [
    {
     "name": "stdout",
     "output_type": "stream",
     "text": [
      "[0.  0.1 0.2 0.3 0.4 0.5 0.6 0.7 0.8 0.9 1. ]\n",
      "[[0 0 0 0 0 0]\n",
      " [0 0 0 0 0 0]\n",
      " [0 0 0 0 0 0]\n",
      " [0 0 0 0 0 0]\n",
      " [0 0 0 0 0 0]]\n",
      "[1.0000e+00+0.j 4.0000e+00+0.j 1.6000e+01+0.j 6.4000e+01+0.j\n",
      " 2.5600e+02+0.j 1.0240e+03+0.j 4.0960e+03+0.j 1.6384e+04+0.j\n",
      " 6.5536e+04+0.j]\n"
     ]
    }
   ],
   "source": [
    "import numpy as np\n",
    "\n",
    "#a)\n",
    "a = np.linspace(0, 1, num=11, dtype=float)\n",
    "print(a)\n",
    "\n",
    "#b)\n",
    "b = np.zeros((5,6), dtype='b')\n",
    "print(b)\n",
    "\n",
    "#c\n",
    "x = np.array([0,1,2,3,4,5,6,7,8], dtype=complex)\n",
    "c = 4 ** x\n",
    "print(c)\n"
   ]
  },
  {
   "cell_type": "code",
   "execution_count": null,
   "id": "e0f37238-cc45-4e79-942b-dc9a61222da9",
   "metadata": {},
   "outputs": [],
   "source": []
  }
 ],
 "metadata": {
  "kernelspec": {
   "display_name": "Python 3 (ipykernel)",
   "language": "python",
   "name": "python3"
  },
  "language_info": {
   "codemirror_mode": {
    "name": "ipython",
    "version": 3
   },
   "file_extension": ".py",
   "mimetype": "text/x-python",
   "name": "python",
   "nbconvert_exporter": "python",
   "pygments_lexer": "ipython3",
   "version": "3.10.2"
  }
 },
 "nbformat": 4,
 "nbformat_minor": 5
}
