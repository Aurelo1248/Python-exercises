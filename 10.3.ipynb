{
 "cells": [
  {
   "cell_type": "code",
   "execution_count": 12,
   "id": "782259fb-c8a0-47c9-8da4-01a6256eeb9a",
   "metadata": {},
   "outputs": [
    {
     "data": {
      "text/html": [
       "<style type=\"text/css\">\n",
       "#T_cb751_row0_col0, #T_cb751_row0_col1, #T_cb751_row0_col2, #T_cb751_row1_col0, #T_cb751_row1_col1, #T_cb751_row1_col2, #T_cb751_row2_col0, #T_cb751_row2_col1, #T_cb751_row2_col2, #T_cb751_row3_col0, #T_cb751_row3_col1, #T_cb751_row3_col2, #T_cb751_row4_col0, #T_cb751_row4_col1, #T_cb751_row4_col2, #T_cb751_row5_col0, #T_cb751_row5_col1, #T_cb751_row5_col2, #T_cb751_row6_col0, #T_cb751_row6_col1, #T_cb751_row6_col2, #T_cb751_row7_col0, #T_cb751_row7_col1, #T_cb751_row7_col2, #T_cb751_row8_col0, #T_cb751_row8_col1, #T_cb751_row8_col2, #T_cb751_row9_col0, #T_cb751_row9_col1, #T_cb751_row9_col2 {\n",
       "  text-align: left;\n",
       "}\n",
       "</style>\n",
       "<table id=\"T_cb751\">\n",
       "  <thead>\n",
       "    <tr>\n",
       "      <th class=\"blank level0\" >&nbsp;</th>\n",
       "      <th id=\"T_cb751_level0_col0\" class=\"col_heading level0 col0\" >Name</th>\n",
       "      <th id=\"T_cb751_level0_col1\" class=\"col_heading level0 col1\" >Symbol</th>\n",
       "      <th id=\"T_cb751_level0_col2\" class=\"col_heading level0 col2\" >Weight</th>\n",
       "    </tr>\n",
       "  </thead>\n",
       "  <tbody>\n",
       "    <tr>\n",
       "      <th id=\"T_cb751_level0_row0\" class=\"row_heading level0 row0\" >1</th>\n",
       "      <td id=\"T_cb751_row0_col0\" class=\"data row0 col0\" >Hydrogen</td>\n",
       "      <td id=\"T_cb751_row0_col1\" class=\"data row0 col1\" >H</td>\n",
       "      <td id=\"T_cb751_row0_col2\" class=\"data row0 col2\" >1.007842</td>\n",
       "    </tr>\n",
       "    <tr>\n",
       "      <th id=\"T_cb751_level0_row1\" class=\"row_heading level0 row1\" >2</th>\n",
       "      <td id=\"T_cb751_row1_col0\" class=\"data row1 col0\" >Helium</td>\n",
       "      <td id=\"T_cb751_row1_col1\" class=\"data row1 col1\" >He</td>\n",
       "      <td id=\"T_cb751_row1_col2\" class=\"data row1 col2\" >4.002602</td>\n",
       "    </tr>\n",
       "    <tr>\n",
       "      <th id=\"T_cb751_level0_row2\" class=\"row_heading level0 row2\" >3</th>\n",
       "      <td id=\"T_cb751_row2_col0\" class=\"data row2 col0\" >Lithium</td>\n",
       "      <td id=\"T_cb751_row2_col1\" class=\"data row2 col1\" >Li</td>\n",
       "      <td id=\"T_cb751_row2_col2\" class=\"data row2 col2\" >6.945872</td>\n",
       "    </tr>\n",
       "    <tr>\n",
       "      <th id=\"T_cb751_level0_row3\" class=\"row_heading level0 row3\" >4</th>\n",
       "      <td id=\"T_cb751_row3_col0\" class=\"data row3 col0\" >Beryllium</td>\n",
       "      <td id=\"T_cb751_row3_col1\" class=\"data row3 col1\" >Be</td>\n",
       "      <td id=\"T_cb751_row3_col2\" class=\"data row3 col2\" >9.012183</td>\n",
       "    </tr>\n",
       "    <tr>\n",
       "      <th id=\"T_cb751_level0_row4\" class=\"row_heading level0 row4\" >5</th>\n",
       "      <td id=\"T_cb751_row4_col0\" class=\"data row4 col0\" >Bor</td>\n",
       "      <td id=\"T_cb751_row4_col1\" class=\"data row4 col1\" >B</td>\n",
       "      <td id=\"T_cb751_row4_col2\" class=\"data row4 col2\" >10.809518</td>\n",
       "    </tr>\n",
       "    <tr>\n",
       "      <th id=\"T_cb751_level0_row5\" class=\"row_heading level0 row5\" >6</th>\n",
       "      <td id=\"T_cb751_row5_col0\" class=\"data row5 col0\" >Carbon</td>\n",
       "      <td id=\"T_cb751_row5_col1\" class=\"data row5 col1\" >C</td>\n",
       "      <td id=\"T_cb751_row5_col2\" class=\"data row5 col2\" >12.009876</td>\n",
       "    </tr>\n",
       "    <tr>\n",
       "      <th id=\"T_cb751_level0_row6\" class=\"row_heading level0 row6\" >7</th>\n",
       "      <td id=\"T_cb751_row6_col0\" class=\"data row6 col0\" >Nitrogen</td>\n",
       "      <td id=\"T_cb751_row6_col1\" class=\"data row6 col1\" >N</td>\n",
       "      <td id=\"T_cb751_row6_col2\" class=\"data row6 col2\" >14.006485</td>\n",
       "    </tr>\n",
       "    <tr>\n",
       "      <th id=\"T_cb751_level0_row7\" class=\"row_heading level0 row7\" >8</th>\n",
       "      <td id=\"T_cb751_row7_col0\" class=\"data row7 col0\" >Oxygen</td>\n",
       "      <td id=\"T_cb751_row7_col1\" class=\"data row7 col1\" >O</td>\n",
       "      <td id=\"T_cb751_row7_col2\" class=\"data row7 col2\" >15.999769</td>\n",
       "    </tr>\n",
       "    <tr>\n",
       "      <th id=\"T_cb751_level0_row8\" class=\"row_heading level0 row8\" >9</th>\n",
       "      <td id=\"T_cb751_row8_col0\" class=\"data row8 col0\" >Fluorine</td>\n",
       "      <td id=\"T_cb751_row8_col1\" class=\"data row8 col1\" >F</td>\n",
       "      <td id=\"T_cb751_row8_col2\" class=\"data row8 col2\" >18.998403</td>\n",
       "    </tr>\n",
       "    <tr>\n",
       "      <th id=\"T_cb751_level0_row9\" class=\"row_heading level0 row9\" >10</th>\n",
       "      <td id=\"T_cb751_row9_col0\" class=\"data row9 col0\" >Neon</td>\n",
       "      <td id=\"T_cb751_row9_col1\" class=\"data row9 col1\" >Ne</td>\n",
       "      <td id=\"T_cb751_row9_col2\" class=\"data row9 col2\" >20.179766</td>\n",
       "    </tr>\n",
       "  </tbody>\n",
       "</table>\n"
      ],
      "text/plain": [
       "<pandas.io.formats.style.Styler at 0x258a9e959c0>"
      ]
     },
     "metadata": {},
     "output_type": "display_data"
    }
   ],
   "source": [
    "# Create pd.DataFrame for the periodic table (ten elements). \n",
    "# Column names are 'Name', 'Symbol', 'Weight'. 'index' starts from 1 for hydrogen.\n",
    "\n",
    "import numpy as np\n",
    "import pandas as pd\n",
    "\n",
    "e = {'Name': ['Hydrogen', 'Helium', 'Lithium', 'Beryllium', 'Bor', 'Carbon', 'Nitrogen', 'Oxygen', 'Fluorine', 'Neon']}\n",
    "t = pd.DataFrame(data=e, index=np.arange(1,11))\n",
    "t['Symbol'] = pd.Series([np.nan, 'H', 'He', 'Li', 'Be', 'B', 'C', 'N', 'O', 'F', 'Ne'])\n",
    "t.insert(2, 'Weight', [1.007842, 4.002602, 6.945872, 9.012183, 10.809518, 12.009876, 14.006485, 15.999769, 18.998403, 20.179766])\n",
    "left_aligned_t = t.style.set_properties(**{'text-align': 'left'})\n",
    "display(left_aligned_t)"
   ]
  },
  {
   "cell_type": "code",
   "execution_count": null,
   "id": "c9c67470-c077-4c33-aefb-4be46a5a5da7",
   "metadata": {},
   "outputs": [],
   "source": []
  }
 ],
 "metadata": {
  "kernelspec": {
   "display_name": "Python 3 (ipykernel)",
   "language": "python",
   "name": "python3"
  },
  "language_info": {
   "codemirror_mode": {
    "name": "ipython",
    "version": 3
   },
   "file_extension": ".py",
   "mimetype": "text/x-python",
   "name": "python",
   "nbconvert_exporter": "python",
   "pygments_lexer": "ipython3",
   "version": "3.10.2"
  }
 },
 "nbformat": 4,
 "nbformat_minor": 5
}
