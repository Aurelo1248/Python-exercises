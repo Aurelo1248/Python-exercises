{
 "cells": [
  {
   "cell_type": "code",
   "execution_count": 31,
   "id": "1cace458-25f6-46c8-9183-37301b2315bf",
   "metadata": {},
   "outputs": [
    {
     "name": "stdin",
     "output_type": "stream",
     "text": [
      "Podaj datę początkową w formacie YYYY-MM-DD 1995-01-30\n",
      "Podaj datę końcową w formacie YYYY-MM-DD 2022-04-01\n"
     ]
    },
    {
     "name": "stdout",
     "output_type": "stream",
     "text": [
      "9923\n"
     ]
    }
   ],
   "source": [
    "# Create the function print_working_days(date1, date2), where 'date1' and 'date2' are strings of the form 'YYYY-MM-DD'. \n",
    "# The function prints dates of working days (from Monday to Friday) in the given range, 'date2' is excluded.\n",
    "\n",
    "from datetime import datetime,date,timedelta\n",
    "\n",
    "def print_working_days(date1, date2):\n",
    "    date1 = input('Podaj datę początkową w formacie YYYY-MM-DD')\n",
    "    date2 = input('Podaj datę końcową w formacie YYYY-MM-DD')\n",
    "    start = datetime.strptime(date1, '%Y-%m-%d')\n",
    "    koniec = datetime.strptime(date2,'%Y-%m-%d')\n",
    "    zliczacz = (start + timedelta(x + 1) for x in range((koniec - start).days))\n",
    "    print(sum(1 for day in zliczacz if day.weekday() < 5))\n",
    "    \n",
    "print_working_days(date1, date2)"
   ]
  },
  {
   "cell_type": "code",
   "execution_count": null,
   "id": "e593c4ab-293f-417a-b96b-44183d2f94ca",
   "metadata": {},
   "outputs": [],
   "source": []
  }
 ],
 "metadata": {
  "kernelspec": {
   "display_name": "Python 3 (ipykernel)",
   "language": "python",
   "name": "python3"
  },
  "language_info": {
   "codemirror_mode": {
    "name": "ipython",
    "version": 3
   },
   "file_extension": ".py",
   "mimetype": "text/x-python",
   "name": "python",
   "nbconvert_exporter": "python",
   "pygments_lexer": "ipython3",
   "version": "3.10.2"
  }
 },
 "nbformat": 4,
 "nbformat_minor": 5
}
