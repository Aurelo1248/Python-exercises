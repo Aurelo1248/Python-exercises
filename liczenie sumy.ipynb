{
 "cells": [
  {
   "cell_type": "code",
   "execution_count": 1,
   "id": "fb945cce-d260-40af-8aad-c8864057b26e",
   "metadata": {},
   "outputs": [
    {
     "name": "stdout",
     "output_type": "stream",
     "text": [
      "1377818771\n"
     ]
    }
   ],
   "source": [
    "print(sum([(x) ** 2 for x in range(1, 2022, 2)]))"
   ]
  },
  {
   "cell_type": "code",
   "execution_count": null,
   "id": "b76d9085-41f8-4f5a-9edc-90d4fa63658c",
   "metadata": {},
   "outputs": [],
   "source": []
  }
 ],
 "metadata": {
  "kernelspec": {
   "display_name": "Python 3 (ipykernel)",
   "language": "python",
   "name": "python3"
  },
  "language_info": {
   "codemirror_mode": {
    "name": "ipython",
    "version": 3
   },
   "file_extension": ".py",
   "mimetype": "text/x-python",
   "name": "python",
   "nbconvert_exporter": "python",
   "pygments_lexer": "ipython3",
   "version": "3.10.2"
  }
 },
 "nbformat": 4,
 "nbformat_minor": 5
}
